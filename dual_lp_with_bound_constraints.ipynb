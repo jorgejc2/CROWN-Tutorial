{
 "cells": [
  {
   "cell_type": "code",
   "execution_count": 1,
   "metadata": {},
   "outputs": [],
   "source": [
    "import torch\n",
    "from torch.optim import Adam\n",
    "import numpy as np\n",
    "import matplotlib.pyplot as plt\n",
    "import plotly.graph_objects as go\n",
    "from plotly.subplots import make_subplots\n",
    "from gurobipy import GRB, quicksum, Model\n",
    "from math import ceil"
   ]
  },
  {
   "cell_type": "markdown",
   "metadata": {},
   "source": [
    "# Lagrangian Dual of LP with Bound Constraints\n",
    "The linear program that will be tackled is of the form:\n",
    "\n",
    "minimize $c^Tx$\n",
    "\n",
    "subject to $Ax\\geq b,-e\\leq x \\leq e, (||x||_\\infty \\leq 1)$\n",
    "\n",
    "The problem to solve is: \n",
    "\n",
    "$\\phi(\\lambda) = \\inf_{-e\\leq x \\leq e} L(x, \\lambda) = \\inf_{-e \\leq x \\leq e} [(c - A^T \\lambda )^T x + b^T \\lambda ]$\n",
    "\n",
    "In the equation above, if $(c - A^T\\lambda)_j \\leq 0, x_j = 1$, otherwise $x_j = -1$, where j denotes the jth inequality constraint. \n",
    "\n",
    "Therefore the Lagrangian dual is:\n",
    "\n",
    "maximize $b^T\\lambda - ||c - A^T\\lambda||_1$\n",
    "\n",
    "subject to $\\lambda \\in \\mathbb{R}^m$\n",
    "\n",
    "For the examples below, we will use the above setup including the bounds on x. To obtain the optimal Lagrange multipliers, we use the PyTorch Adam optimizer to maximimize the Lagrangian dual, and then obtain the lower bound by plugging in these multipliers into the dual objective at the end. \n",
    "\n",
    "The only difference in each example is the inequality constraints. \n",
    "\n",
    "Our variables are defined as: \n",
    "\n",
    "$$x = \\begin{pmatrix}x_1\\\\x_2\\end{pmatrix}$$\n",
    "$$c \\begin{pmatrix}1\\\\1\\end{pmatrix}$$\n",
    "$$\\lambda \\in \\mathbb{R}^1$$\n",
    "$$A \\in \\mathbb{R}^{1x2}$$\n",
    "$$b \\in \\mathbb{R}^1$$\n",
    "\n",
    "Naturally, this means the objective function to minimize is $x_1 + x_2$ subject to some constraints. "
   ]
  },
  {
   "cell_type": "code",
   "execution_count": 2,
   "metadata": {},
   "outputs": [],
   "source": [
    "def langrange_dual_fn (e_x, A, c, b, lambda_):\n",
    "    x = torch.abs(e_x).float() # ensure x is positive\n",
    "    return -1*torch.abs((c - A.T@lambda_).T@x) + b.T@lambda_\n",
    "\n",
    "def maximizing_fn (A, b, c, lambda_, alpha = 1):\n",
    "    return b.T @ lambda_ - torch.norm(alpha * c-A.T@lambda_, p=1)"
   ]
  },
  {
   "cell_type": "code",
   "execution_count": 3,
   "metadata": {},
   "outputs": [],
   "source": [
    "num_steps = 100\n",
    "lr = 0.1"
   ]
  },
  {
   "cell_type": "markdown",
   "metadata": {},
   "source": [
    "### Example 1\n",
    "$-x_1 - x_2 \\leq 0.5$"
   ]
  },
  {
   "cell_type": "code",
   "execution_count": 4,
   "metadata": {},
   "outputs": [
    {
     "name": "stdout",
     "output_type": "stream",
     "text": [
      "Optimized lambda: \n",
      "tensor([[1.0012]])\n",
      "Lower bound: \n",
      "tensor([[-0.5029]])\n"
     ]
    }
   ],
   "source": [
    "A_t = torch.tensor([[1.,1.]])\n",
    "c_t = torch.tensor([[1.],[1.]])\n",
    "b_t = torch.tensor([[-0.5]])\n",
    "x_t = torch.tensor([[1.],[1.]])\n",
    "lambda_ = torch.rand(1,1, requires_grad=True)\n",
    "\n",
    "opt = torch.optim.Adam([lambda_], lr=lr, maximize=True)\n",
    "\n",
    "for step in range(num_steps):\n",
    "    y = maximizing_fn(A_t, b_t, c_t, lambda_)\n",
    "\n",
    "    opt.zero_grad(set_to_none=True)\n",
    "    y.backward()\n",
    "    opt.step()\n",
    "\n",
    "    with torch.no_grad():\n",
    "        lambda_.data = torch.clamp(lambda_.data, min=0.0)\n",
    "\n",
    "lambda_optimized = lambda_.data\n",
    "print(f\"Optimized lambda: \\n{lambda_.data}\")\n",
    "print(f\"Lower bound: \\n{langrange_dual_fn(x_t, A_t, c_t, b_t, lambda_).data}\")"
   ]
  },
  {
   "cell_type": "markdown",
   "metadata": {},
   "source": [
    "### Example 2\n",
    "$-x_1 - x_2 \\geq 0.5$"
   ]
  },
  {
   "cell_type": "code",
   "execution_count": 5,
   "metadata": {},
   "outputs": [
    {
     "name": "stdout",
     "output_type": "stream",
     "text": [
      "Optimized lambda: \n",
      "tensor([[0.]])\n",
      "Lower bound: \n",
      "tensor([[-2.]])\n"
     ]
    }
   ],
   "source": [
    "A_t = torch.tensor([[-1.,-1.]])\n",
    "c_t = torch.tensor([[1.],[1.]])\n",
    "b_t = torch.tensor([[0.5]])\n",
    "x_t = torch.tensor([[1.],[1.]])\n",
    "lambda_ = torch.rand(1,1, requires_grad=True)\n",
    "\n",
    "opt = torch.optim.Adam([lambda_], lr=lr, maximize=True)\n",
    "\n",
    "for step in range(num_steps):\n",
    "    # y = maximizing_fn(A_t, b_t, c_t, lambda_)\n",
    "    y = langrange_dual_fn(x_t, A_t, c_t, b_t, lambda_)\n",
    "\n",
    "    opt.zero_grad(set_to_none=True)\n",
    "    y.backward()\n",
    "    opt.step()\n",
    "\n",
    "    with torch.no_grad():\n",
    "        lambda_.data = torch.clamp(lambda_.data, min=0.0)\n",
    "\n",
    "lambda_optimized = lambda_.data\n",
    "print(f\"Optimized lambda: \\n{lambda_.data}\")\n",
    "print(f\"Lower bound: \\n{langrange_dual_fn(x_t, A_t, c_t, b_t, lambda_).data}\")"
   ]
  },
  {
   "cell_type": "markdown",
   "metadata": {},
   "source": [
    "### Example 3\n",
    "$x_1 + x_2 \\geq 0$"
   ]
  },
  {
   "cell_type": "code",
   "execution_count": 6,
   "metadata": {},
   "outputs": [
    {
     "name": "stdout",
     "output_type": "stream",
     "text": [
      "Optimized lambda: \n",
      "tensor([[0.9947]])\n",
      "Lower bound: \n",
      "tensor([[-0.0105]])\n"
     ]
    }
   ],
   "source": [
    "A_t = torch.tensor([[1.,1.]])\n",
    "c_t = torch.tensor([[1.],[1.]])\n",
    "b_t = torch.tensor([[0.]])\n",
    "x_t = torch.tensor([[1.],[1.]])\n",
    "lambda_ = torch.rand(1,1, requires_grad=True)\n",
    "\n",
    "opt = torch.optim.Adam([lambda_], lr=lr, maximize=True)\n",
    "\n",
    "for step in range(num_steps):\n",
    "    # y = maximizing_fn(A_t, b_t, c_t, lambda_)\n",
    "    y = langrange_dual_fn(x_t, A_t, c_t, b_t, lambda_)\n",
    "\n",
    "    opt.zero_grad(set_to_none=True)\n",
    "    y.backward()\n",
    "    opt.step()\n",
    "\n",
    "    with torch.no_grad():\n",
    "        lambda_.data = torch.clamp(lambda_.data, min=0.0)\n",
    "\n",
    "lambda_optimized = lambda_.data\n",
    "print(f\"Optimized lambda: \\n{lambda_.data}\")\n",
    "print(f\"Lower bound: \\n{langrange_dual_fn(x_t, A_t, c_t, b_t, lambda_).data}\")"
   ]
  },
  {
   "cell_type": "markdown",
   "metadata": {},
   "source": [
    "### Example 4\n",
    "$x_1 + x_2 \\geq 1$"
   ]
  },
  {
   "cell_type": "code",
   "execution_count": 7,
   "metadata": {},
   "outputs": [
    {
     "name": "stdout",
     "output_type": "stream",
     "text": [
      "Optimized lambda: \n",
      "tensor([[1.0369]])\n",
      "Lower bound: \n",
      "tensor([[0.9631]])\n"
     ]
    }
   ],
   "source": [
    "A_t = torch.tensor([[1.,1.]])\n",
    "c_t = torch.tensor([[1.],[1.]])\n",
    "b_t = torch.tensor([[1.]])\n",
    "x_t = torch.tensor([[1.],[1.]])\n",
    "lambda_ = torch.rand(1,1, requires_grad=True)\n",
    "\n",
    "opt = torch.optim.Adam([lambda_], lr=lr, maximize=True)\n",
    "\n",
    "for step in range(num_steps):\n",
    "    # y = maximizing_fn(A_t, b_t, c_t, lambda_)\n",
    "    y = langrange_dual_fn(x_t, A_t, c_t, b_t, lambda_)\n",
    "\n",
    "    opt.zero_grad(set_to_none=True)\n",
    "    y.backward()\n",
    "    opt.step()\n",
    "\n",
    "    with torch.no_grad():\n",
    "        lambda_.data = torch.clamp(lambda_.data, min=0.0)\n",
    "\n",
    "lambda_optimized = lambda_.data\n",
    "print(f\"Optimized lambda: \\n{lambda_.data}\")\n",
    "print(f\"Lower bound: \\n{langrange_dual_fn(x_t, A_t, c_t, b_t, lambda_).data}\")"
   ]
  },
  {
   "cell_type": "markdown",
   "metadata": {},
   "source": [
    "### Example 5\n",
    "$x_1 + x_2 \\geq -1$"
   ]
  },
  {
   "cell_type": "code",
   "execution_count": 8,
   "metadata": {},
   "outputs": [
    {
     "name": "stdout",
     "output_type": "stream",
     "text": [
      "Optimized lambda: \n",
      "tensor([[0.9803]])\n",
      "Lower bound: \n",
      "tensor([[-1.0197]])\n"
     ]
    }
   ],
   "source": [
    "A_t = torch.tensor([[1.,1.]])\n",
    "c_t = torch.tensor([[1.],[1.]])\n",
    "b_t = torch.tensor([[-1.]])\n",
    "x_t = torch.tensor([[1.],[1.]])\n",
    "lambda_ = torch.rand(1,1, requires_grad=True)\n",
    "\n",
    "opt = torch.optim.Adam([lambda_], lr=lr, maximize=True)\n",
    "\n",
    "for step in range(num_steps):\n",
    "    # y = maximizing_fn(A_t, b_t, c_t, lambda_)\n",
    "    y = langrange_dual_fn(x_t, A_t, c_t, b_t, lambda_)\n",
    "\n",
    "    opt.zero_grad(set_to_none=True)\n",
    "    y.backward()\n",
    "    opt.step()\n",
    "\n",
    "    with torch.no_grad():\n",
    "        lambda_.data = torch.clamp(lambda_.data, min=0.0)\n",
    "\n",
    "lambda_optimized = lambda_.data\n",
    "print(f\"Optimized lambda: \\n{lambda_.data}\")\n",
    "print(f\"Lower bound: \\n{langrange_dual_fn(x_t, A_t, c_t, b_t, lambda_).data}\")"
   ]
  },
  {
   "cell_type": "code",
   "execution_count": 9,
   "metadata": {},
   "outputs": [
    {
     "name": "stdout",
     "output_type": "stream",
     "text": [
      "Optimized lambda: \n",
      "tensor([[0.]])\n",
      "Lower bound: \n",
      "tensor([[-2.]])\n"
     ]
    }
   ],
   "source": [
    "A_t = torch.tensor([[1.,1.]])\n",
    "c_t = torch.tensor([[-1.],[-1.]])\n",
    "b_t = torch.tensor([[-1.]])\n",
    "x_t = torch.tensor([[1.],[1.]])\n",
    "lambda_ = torch.rand(1,1, requires_grad=True)\n",
    "\n",
    "opt = torch.optim.Adam([lambda_], lr=lr, maximize=True)\n",
    "\n",
    "for step in range(num_steps):\n",
    "    # y = maximizing_fn(A_t, b_t, c_t, lambda_)\n",
    "    y = langrange_dual_fn(x_t, A_t, c_t, b_t, lambda_)\n",
    "\n",
    "    opt.zero_grad(set_to_none=True)\n",
    "    y.backward()\n",
    "    opt.step()\n",
    "\n",
    "    with torch.no_grad():\n",
    "        lambda_.data = torch.clamp(lambda_.data, min=0.0)\n",
    "\n",
    "lambda_optimized = lambda_.data\n",
    "print(f\"Optimized lambda: \\n{lambda_.data}\")\n",
    "print(f\"Lower bound: \\n{langrange_dual_fn(x_t, A_t, c_t, b_t, lambda_).data}\")"
   ]
  },
  {
   "cell_type": "markdown",
   "metadata": {},
   "source": [
    "Final example with many constraints"
   ]
  },
  {
   "cell_type": "code",
   "execution_count": 10,
   "metadata": {},
   "outputs": [
    {
     "name": "stdout",
     "output_type": "stream",
     "text": [
      "Optimized lambda: \n",
      "tensor([[0.]])\n",
      "Lower bound: \n",
      "tensor([[-10.]])\n"
     ]
    }
   ],
   "source": [
    "c_t = torch.tensor([[1.],[1.]])\n",
    "G_t = -1*torch.tensor([[-2/9, 1],[-6/5, 1], [-5/3, -1], [1/8, -1], [5, 1]]).float()\n",
    "h_t = -1*torch.tensor([[46/9], [6], [25/3], [19/4], [26]]).float()\n",
    "G_t = -1*torch.tensor([[-5/3, -1]]).float()\n",
    "h_t = -1*torch.tensor([[25/3]]).float()\n",
    "x_t = torch.tensor([[-5.],[-5.]])\n",
    "lambda_ = torch.rand(1,1, requires_grad=True)\n",
    "# alpha = torch.rand(1, requires_grad=True)\n",
    "alpha = torch.tensor([[1.]])\n",
    "\n",
    "opt = torch.optim.Adam([lambda_, alpha], lr=lr, maximize=True)\n",
    "\n",
    "num_steps = 100\n",
    "\n",
    "for step in range(num_steps):\n",
    "    y = maximizing_fn(G_t, h_t, c_t, lambda_, alpha)\n",
    "    # y = langrange_dual_fn(x_t, G_t, c_t, h_t, lambda_)\n",
    "\n",
    "    opt.zero_grad(set_to_none=True)\n",
    "    y.backward()\n",
    "    opt.step()\n",
    "\n",
    "    with torch.no_grad():\n",
    "        lambda_.data = torch.clamp(lambda_.data, min=0.0)\n",
    "        alpha.data = torch.clamp(alpha.data, min=0.0, max=1.0)\n",
    "\n",
    "lambda_optimized = lambda_.data\n",
    "print(f\"Optimized lambda: \\n{lambda_.data}\")\n",
    "print(f\"Lower bound: \\n{langrange_dual_fn(x_t, G_t, alpha*c_t, h_t, lambda_).data}\")"
   ]
  },
  {
   "cell_type": "markdown",
   "metadata": {},
   "source": [
    "Now consider a problem with 2 bounds:"
   ]
  },
  {
   "cell_type": "code",
   "execution_count": 11,
   "metadata": {},
   "outputs": [
    {
     "name": "stdout",
     "output_type": "stream",
     "text": [
      "Restricted license - for non-production use only - expires 2024-10-28\n",
      "Gurobi Optimizer version 10.0.3 build v10.0.3rc0 (linux64)\n",
      "\n",
      "CPU model: 12th Gen Intel(R) Core(TM) i7-12700H, instruction set [SSE2|AVX|AVX2]\n",
      "Thread count: 20 physical cores, 20 logical processors, using up to 20 threads\n",
      "\n",
      "Optimize a model with 2 rows, 2 columns and 4 nonzeros\n",
      "Model fingerprint: 0x43bddeaf\n",
      "Coefficient statistics:\n",
      "  Matrix range     [1e-01, 2e+00]\n",
      "  Objective range  [5e-01, 5e-01]\n",
      "  Bounds range     [5e+00, 5e+00]\n",
      "  RHS range        [5e+00, 8e+00]\n",
      "Presolve time: 0.00s\n",
      "Presolved: 2 rows, 2 columns, 4 nonzeros\n",
      "\n",
      "Iteration    Objective       Primal Inf.    Dual Inf.      Time\n",
      "       0   -5.8333333e+00   1.210417e+01   0.000000e+00      0s\n",
      "       1   -3.5000000e+00   0.000000e+00   0.000000e+00      0s\n",
      "\n",
      "Solved in 1 iterations and 0.00 seconds (0.00 work units)\n",
      "Optimal objective -3.500000000e+00\n",
      "Objective Function Value: -3.500000\n",
      "x[0,0]: -2\n",
      "x[1,0]: -5\n",
      "Printing inequality constraint dual variables:\n",
      " [[0.3]\n",
      " [0. ]]\n"
     ]
    }
   ],
   "source": [
    "opt_mod = Model(name=\"Multi_bound\")\n",
    "\n",
    "# constraints\n",
    "G = np.array([[5/3, 1], [-1/8, 1]])\n",
    "h = np.array([[-25/3], [-19/4]])\n",
    "\n",
    "x = opt_mod.addMVar(shape=(2,1), name='x', lb=-5, ub=5)\n",
    "\n",
    "# adding constraints\n",
    "ineq_c = opt_mod.addConstr(G @ x >= h, name='c0')\n",
    "\n",
    "# add objective\n",
    "alpha = 0.5\n",
    "c = np.array([[1],[1]]) * alpha\n",
    "\n",
    "opt_mod.setObjective(c.T@x, GRB.MINIMIZE)\n",
    "\n",
    "opt_mod.optimize()\n",
    "\n",
    "# output the result\n",
    "print('Objective Function Value: %f' % opt_mod.ObjVal)\n",
    "# Get values of the decision variables\n",
    "for v in opt_mod.getVars():\n",
    "    print('%s: %g' % (v.VarName, v.x))\n",
    "\n",
    "ineq_pi = ineq_c.Pi\n",
    "print(f\"Printing inequality constraint dual variables:\\n {ineq_pi}\")"
   ]
  },
  {
   "cell_type": "code",
   "execution_count": 12,
   "metadata": {},
   "outputs": [
    {
     "name": "stdout",
     "output_type": "stream",
     "text": [
      "-3.5\n"
     ]
    }
   ],
   "source": [
    "# # plug this solution back in \n",
    "eps = np.array([[5], [5]])\n",
    "sol = -1 * np.abs(c - G.T@ineq_pi).T@eps + h.T @ ineq_pi\n",
    "sol = np.squeeze(sol)\n",
    "print(sol)"
   ]
  },
  {
   "cell_type": "code",
   "execution_count": 13,
   "metadata": {},
   "outputs": [],
   "source": [
    "def langrange_dual_fn (e_x, A, c, b, lambda_):\n",
    "    x = torch.abs(e_x).float() # ensure x is positive\n",
    "    return -1*torch.abs((c - A.T@lambda_).T)@x + b.T@lambda_"
   ]
  },
  {
   "cell_type": "code",
   "execution_count": 28,
   "metadata": {},
   "outputs": [
    {
     "name": "stdout",
     "output_type": "stream",
     "text": [
      "Shape lambda_vals (5, 50)\n",
      "Optimized lambda: \n",
      "tensor([[0.2927],\n",
      "        [0.0052],\n",
      "        [0.0000]])\n",
      "[0.2927065  0.00522431 0.        ]\n",
      "Lower bound: \n",
      "tensor([[-3.5384]])\n",
      "Max Loss: -3.504701614379883\n"
     ]
    },
    {
     "name": "stderr",
     "output_type": "stream",
     "text": [
      "/tmp/ipykernel_6629/1842205810.py:33: DeprecationWarning: Conversion of an array with ndim > 0 to a scalar is deprecated, and will error in future. Ensure you extract a single element from your array before performing this operation. (Deprecated NumPy 1.25.)\n",
      "  lambda_vals[-1, step] = alpha.data.detach().clone().numpy().flatten()\n"
     ]
    },
    {
     "data": {
      "image/png": "[encoded data removed]",
      "text/plain": [
       "<Figure size 1800x1200 with 5 Axes>"
      ]
     },
     "metadata": {},
     "output_type": "display_data"
    }
   ],
   "source": [
    "# alpha = torch.rand(1, requires_grad=True)\n",
    "alpha = torch.tensor(0.5)\n",
    "c_t = torch.tensor([[1.],[1.]])\n",
    "G_t = torch.tensor([[5/3, 1], [-1/8, 1], [2/9, -1]])\n",
    "h_t = torch.tensor([[-25/3], [-19/4], [-46/9]])\n",
    "x_t = torch.tensor([[-5.],[-5.]])\n",
    "lambda_ = torch.rand(3,1, requires_grad=True)\n",
    "\n",
    "opt = torch.optim.Adam([lambda_], lr=lr, maximize=True)\n",
    "scheduler = torch.optim.lr_scheduler.ExponentialLR(opt, 0.98)\n",
    "\n",
    "num_steps = 50\n",
    "\n",
    "loss_graph = np.array([i for i in range(num_steps)], dtype=np.float32)\n",
    "loss_graph = np.vstack((loss_graph, np.zeros(num_steps)))\n",
    "lambda_vals = np.array([i for i in range(num_steps)], dtype=np.float32)\n",
    "lambda_vals = np.tile(lambda_vals, lambda_.shape[0] + 2).reshape(-1, num_steps)\n",
    "print(f\"Shape lambda_vals {lambda_vals.shape}\")\n",
    "\n",
    "for step in range(num_steps):\n",
    "    y = langrange_dual_fn(x_t, G_t, c_t*alpha, h_t, lambda_)\n",
    "    loss_graph[1, step] = y.item()\n",
    "\n",
    "    opt.zero_grad(set_to_none=True)\n",
    "    y.backward()\n",
    "    opt.step()\n",
    "    scheduler.step()\n",
    "\n",
    "    with torch.no_grad():\n",
    "        lambda_.data = torch.clamp(lambda_.data, min=0.0)\n",
    "        alpha.data = torch.clamp(alpha.data, min=0.0, max=1.0)\n",
    "        lambda_vals[1:-1, step] = lambda_.data.detach().clone().numpy().flatten()\n",
    "        lambda_vals[-1, step] = alpha.data.detach().clone().numpy().flatten()\n",
    "\n",
    "lambda_optimized = lambda_.data\n",
    "print(f\"Optimized lambda: \\n{lambda_.data}\")\n",
    "print(lambda_.data.detach().clone().numpy().flatten())\n",
    "print(f\"Lower bound: \\n{langrange_dual_fn(x_t, G_t, c_t*alpha, h_t, lambda_).data}\")\n",
    "max_loss = np.max(loss_graph[1,:]) # no need to settle for the final value\n",
    "print(f\"Max Loss: {max_loss}\")\n",
    "\n",
    "fig = plt.figure(figsize=(18,12))\n",
    "num_subs = 2 + lambda_.shape[0]\n",
    "num_rows = ceil(num_subs / 2)\n",
    "for i in range(num_subs):\n",
    "    plt.subplot(num_rows, 2, i + 1)\n",
    "    \n",
    "    if i == 0:\n",
    "        plt.title(f\"Loss Function\")\n",
    "        plt.ylabel(f\"y\")\n",
    "        plt.plot(loss_graph[0,:], loss_graph[1,:])\n",
    "    else:\n",
    "        if i == num_subs - 1:\n",
    "            plt.title(f\"alpha w.r.t. steps\")\n",
    "            plt.ylabel(f\"alpha\")\n",
    "        else:\n",
    "            plt.title(f\"Lambda {i} w.r.t. steps\")\n",
    "            plt.ylabel(f\"Lambda {i}\")\n",
    "        plt.plot(lambda_vals[0,:], lambda_vals[i,:])\n",
    "\n",
    "    plt.xlabel(\"Steps\")\n",
    "\n",
    "plt.show()"
   ]
  }
 ],
 "metadata": {
  "kernelspec": {
   "display_name": "rapids-23.10",
   "language": "python",
   "name": "python3"
  },
  "language_info": {
   "codemirror_mode": {
    "name": "ipython",
    "version": 3
   },
   "file_extension": ".py",
   "mimetype": "text/x-python",
   "name": "python",
   "nbconvert_exporter": "python",
   "pygments_lexer": "ipython3",
   "version": "3.10.13"
  }
 },
 "nbformat": 4,
 "nbformat_minor": 2
}
